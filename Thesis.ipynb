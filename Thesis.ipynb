{
  "cells": [
    {
      "cell_type": "markdown",
      "metadata": {
        "id": "view-in-github",
        "colab_type": "text"
      },
      "source": [
        "<a href=\"https://colab.research.google.com/github/PanosPanagopoulos/Image-Segmentation-Thesis/blob/main/Thesis.ipynb\" target=\"_parent\"><img src=\"https://colab.research.google.com/assets/colab-badge.svg\" alt=\"Open In Colab\"/></a>"
      ]
    },
    {
      "cell_type": "code",
      "execution_count": 1,
      "id": "1ba2274a",
      "metadata": {
        "id": "1ba2274a"
      },
      "outputs": [],
      "source": [
        "import sys\n",
        "sys.path.insert(0,r'C:\\Users\\Panos\\Desktop\\thesis\\SPIE2019_COURSE-master\\SPIE2019_COURSE-master')"
      ]
    },
    {
      "cell_type": "code",
      "source": [
        "pip install SimpleITK"
      ],
      "metadata": {
        "colab": {
          "base_uri": "https://localhost:8080/"
        },
        "id": "_j9_tvDSj0lP",
        "outputId": "5bacdc69-659f-48e9-f56d-f56db9cc05b3"
      },
      "id": "_j9_tvDSj0lP",
      "execution_count": 3,
      "outputs": [
        {
          "output_type": "stream",
          "name": "stdout",
          "text": [
            "Collecting SimpleITK\n",
            "  Downloading SimpleITK-2.1.1-cp37-cp37m-manylinux_2_12_x86_64.manylinux2010_x86_64.whl (48.4 MB)\n",
            "\u001b[K     |████████████████████████████████| 48.4 MB 1.4 MB/s \n",
            "\u001b[?25hInstalling collected packages: SimpleITK\n",
            "Successfully installed SimpleITK-2.1.1\n"
          ]
        }
      ]
    },
    {
      "cell_type": "code",
      "execution_count": 4,
      "id": "cbb16041",
      "metadata": {
        "colab": {
          "base_uri": "https://localhost:8080/",
          "height": 339
        },
        "id": "cbb16041",
        "outputId": "dcca28a8-0587-4872-abd9-140b6153af0b"
      },
      "outputs": [
        {
          "output_type": "error",
          "ename": "ModuleNotFoundError",
          "evalue": "ignored",
          "traceback": [
            "\u001b[0;31m---------------------------------------------------------------------------\u001b[0m",
            "\u001b[0;31mModuleNotFoundError\u001b[0m                       Traceback (most recent call last)",
            "\u001b[0;32m<ipython-input-4-4f72fda24096>\u001b[0m in \u001b[0;36m<module>\u001b[0;34m()\u001b[0m\n\u001b[1;32m      4\u001b[0m \u001b[0;34m\u001b[0m\u001b[0m\n\u001b[1;32m      5\u001b[0m \u001b[0mget_ipython\u001b[0m\u001b[0;34m(\u001b[0m\u001b[0;34m)\u001b[0m\u001b[0;34m.\u001b[0m\u001b[0mmagic\u001b[0m\u001b[0;34m(\u001b[0m\u001b[0;34m'matplotlib nbagg'\u001b[0m\u001b[0;34m)\u001b[0m\u001b[0;34m\u001b[0m\u001b[0;34m\u001b[0m\u001b[0m\n\u001b[0;32m----> 6\u001b[0;31m \u001b[0;32mimport\u001b[0m \u001b[0mgui\u001b[0m\u001b[0;34m\u001b[0m\u001b[0;34m\u001b[0m\u001b[0m\n\u001b[0m",
            "\u001b[0;31mModuleNotFoundError\u001b[0m: No module named 'gui'",
            "",
            "\u001b[0;31m---------------------------------------------------------------------------\u001b[0;32m\nNOTE: If your import is failing due to a missing package, you can\nmanually install dependencies using either !pip or !apt.\n\nTo view examples of installing some common dependencies, click the\n\"Open Examples\" button below.\n\u001b[0;31m---------------------------------------------------------------------------\u001b[0m\n"
          ],
          "errorDetails": {
            "actions": [
              {
                "action": "open_url",
                "actionText": "Open Examples",
                "url": "/notebooks/snippets/importing_libraries.ipynb"
              }
            ]
          }
        }
      ],
      "source": [
        "import SimpleITK as sitk\n",
        "import numpy as np\n",
        "import os\n",
        "\n",
        "%matplotlib nbagg\n",
        "import gui"
      ]
    },
    {
      "cell_type": "code",
      "source": [
        "import os"
      ],
      "metadata": {
        "id": "AoCGwtZ7jx4n"
      },
      "id": "AoCGwtZ7jx4n",
      "execution_count": 8,
      "outputs": []
    },
    {
      "cell_type": "code",
      "source": [
        "os.getcwd()"
      ],
      "metadata": {
        "colab": {
          "base_uri": "https://localhost:8080/",
          "height": 35
        },
        "id": "gtXYOhj5klft",
        "outputId": "f4127271-536c-40aa-91f7-41949fb10806"
      },
      "id": "gtXYOhj5klft",
      "execution_count": 9,
      "outputs": [
        {
          "output_type": "execute_result",
          "data": {
            "text/plain": [
              "'/content'"
            ],
            "application/vnd.google.colaboratory.intrinsic+json": {
              "type": "string"
            }
          },
          "metadata": {},
          "execution_count": 9
        }
      ]
    },
    {
      "cell_type": "code",
      "execution_count": 5,
      "id": "1db23ebd",
      "metadata": {
        "id": "1db23ebd"
      },
      "outputs": [],
      "source": [
        "# Let's import matplotlib so we can view images\n",
        "from matplotlib import pyplot as plt\n",
        "%matplotlib inline\n",
        "import matplotlib.pyplot as plt\n",
        "from mpl_toolkits import mplot3d"
      ]
    },
    {
      "cell_type": "code",
      "execution_count": 6,
      "id": "3ddcd030",
      "metadata": {
        "id": "3ddcd030"
      },
      "outputs": [],
      "source": [
        "folder = r'C:\\Users\\Panos\\Desktop\\thesis\\data_pet'"
      ]
    },
    {
      "cell_type": "code",
      "execution_count": 7,
      "id": "b3e4b1b3",
      "metadata": {
        "colab": {
          "base_uri": "https://localhost:8080/",
          "height": 339
        },
        "id": "b3e4b1b3",
        "outputId": "1b33a093-f200-41a0-9505-6ff61d470b67"
      },
      "outputs": [
        {
          "output_type": "error",
          "ename": "RuntimeError",
          "evalue": "ignored",
          "traceback": [
            "\u001b[0;31m---------------------------------------------------------------------------\u001b[0m",
            "\u001b[0;31mRuntimeError\u001b[0m                              Traceback (most recent call last)",
            "\u001b[0;32m<ipython-input-7-d7598ec12940>\u001b[0m in \u001b[0;36m<module>\u001b[0;34m()\u001b[0m\n\u001b[1;32m      2\u001b[0m \u001b[0mreader\u001b[0m\u001b[0;34m.\u001b[0m\u001b[0mSetImageIO\u001b[0m\u001b[0;34m(\u001b[0m\u001b[0;34m\"NiftiImageIO\"\u001b[0m\u001b[0;34m)\u001b[0m\u001b[0;34m\u001b[0m\u001b[0;34m\u001b[0m\u001b[0m\n\u001b[1;32m      3\u001b[0m \u001b[0mreader\u001b[0m\u001b[0;34m.\u001b[0m\u001b[0mSetFileName\u001b[0m\u001b[0;34m(\u001b[0m\u001b[0mos\u001b[0m\u001b[0;34m.\u001b[0m\u001b[0mpath\u001b[0m\u001b[0;34m.\u001b[0m\u001b[0mjoin\u001b[0m\u001b[0;34m(\u001b[0m\u001b[0mfolder\u001b[0m\u001b[0;34m,\u001b[0m\u001b[0;34m'SUV\\\\Patient_01_AJ.nii'\u001b[0m\u001b[0;34m)\u001b[0m\u001b[0;34m)\u001b[0m\u001b[0;34m\u001b[0m\u001b[0;34m\u001b[0m\u001b[0m\n\u001b[0;32m----> 4\u001b[0;31m \u001b[0mimage\u001b[0m \u001b[0;34m=\u001b[0m \u001b[0mreader\u001b[0m\u001b[0;34m.\u001b[0m\u001b[0mExecute\u001b[0m\u001b[0;34m(\u001b[0m\u001b[0;34m)\u001b[0m\u001b[0;34m\u001b[0m\u001b[0;34m\u001b[0m\u001b[0m\n\u001b[0m",
            "\u001b[0;32m/usr/local/lib/python3.7/dist-packages/SimpleITK/SimpleITK.py\u001b[0m in \u001b[0;36mExecute\u001b[0;34m(self)\u001b[0m\n\u001b[1;32m   8013\u001b[0m \u001b[0;34m\u001b[0m\u001b[0m\n\u001b[1;32m   8014\u001b[0m         \"\"\"\n\u001b[0;32m-> 8015\u001b[0;31m         \u001b[0;32mreturn\u001b[0m \u001b[0m_SimpleITK\u001b[0m\u001b[0;34m.\u001b[0m\u001b[0mImageFileReader_Execute\u001b[0m\u001b[0;34m(\u001b[0m\u001b[0mself\u001b[0m\u001b[0;34m)\u001b[0m\u001b[0;34m\u001b[0m\u001b[0;34m\u001b[0m\u001b[0m\n\u001b[0m\u001b[1;32m   8016\u001b[0m \u001b[0;34m\u001b[0m\u001b[0m\n\u001b[1;32m   8017\u001b[0m     \u001b[0;32mdef\u001b[0m \u001b[0mReadImageInformation\u001b[0m\u001b[0;34m(\u001b[0m\u001b[0mself\u001b[0m\u001b[0;34m)\u001b[0m\u001b[0;34m:\u001b[0m\u001b[0;34m\u001b[0m\u001b[0;34m\u001b[0m\u001b[0m\n",
            "\u001b[0;31mRuntimeError\u001b[0m: Exception thrown in SimpleITK ImageFileReader_Execute: /tmp/SimpleITK-build/ITK/Modules/IO/NIFTI/src/itkNiftiImageIO.cxx:1031:\nITK ERROR: NiftiImageIO(0x55d491ae4900): C:\\Users\\Panos\\Desktop\\thesis\\data_pet/SUV\\Patient_01_AJ.nii is not recognized as a NIFTI file"
          ]
        }
      ],
      "source": [
        "reader = sitk.ImageFileReader()\n",
        "reader.SetImageIO(\"NiftiImageIO\")\n",
        "reader.SetFileName(os.path.join(folder,'SUV\\\\Patient_01_AJ.nii'))\n",
        "image = reader.Execute()"
      ]
    },
    {
      "cell_type": "code",
      "execution_count": null,
      "id": "913473f2",
      "metadata": {
        "id": "913473f2"
      },
      "outputs": [],
      "source": [
        "help(image)"
      ]
    },
    {
      "cell_type": "code",
      "execution_count": null,
      "id": "8fc37bfb",
      "metadata": {
        "id": "8fc37bfb"
      },
      "outputs": [],
      "source": [
        "reader.SetFileName(os.path.join(folder,'Segmentations\\\\Patient_01_AJ_segm_fixed.nii'))\n",
        "labels = reader.Execute()\n"
      ]
    },
    {
      "cell_type": "code",
      "execution_count": null,
      "id": "80abb54d",
      "metadata": {
        "id": "80abb54d"
      },
      "outputs": [],
      "source": [
        "labels.GetSize()"
      ]
    },
    {
      "cell_type": "code",
      "execution_count": null,
      "id": "4229f198",
      "metadata": {
        "id": "4229f198"
      },
      "outputs": [],
      "source": [
        "image.GetSize()"
      ]
    },
    {
      "cell_type": "code",
      "execution_count": null,
      "id": "3c5f3642",
      "metadata": {
        "id": "3c5f3642"
      },
      "outputs": [],
      "source": [
        "image.GetDimension()"
      ]
    },
    {
      "cell_type": "code",
      "execution_count": null,
      "id": "301584c3",
      "metadata": {
        "id": "301584c3"
      },
      "outputs": [],
      "source": [
        "print('Origin', image.GetOrigin())\n",
        "print('Spacing', image.GetSpacing())\n",
        "print('Direction', image.GetDirection())"
      ]
    },
    {
      "cell_type": "code",
      "execution_count": null,
      "id": "24ef6aeb",
      "metadata": {
        "id": "24ef6aeb"
      },
      "outputs": [],
      "source": [
        "image.TransformIndexToPhysicalPoint((0,0,0))"
      ]
    },
    {
      "cell_type": "code",
      "execution_count": null,
      "id": "b257da5f",
      "metadata": {
        "id": "b257da5f"
      },
      "outputs": [],
      "source": [
        "# view with Fiji\n",
        "sitk.Show(image, title=\"grid using Show function\", debugOn=True)"
      ]
    },
    {
      "cell_type": "code",
      "execution_count": null,
      "id": "effce4d0",
      "metadata": {
        "id": "effce4d0"
      },
      "outputs": [],
      "source": [
        "# Change viewer, and display again.\n",
        "image_viewer.SetApplication(\n",
        "    '/Applications/ITK-SNAP.app/Contents/MacOS/ITK-SNAP')\n",
        "image_viewer.Execute(grid_image)"
      ]
    },
    {
      "cell_type": "code",
      "execution_count": null,
      "id": "49176bc4",
      "metadata": {
        "id": "49176bc4"
      },
      "outputs": [],
      "source": [
        "x = sitk.GetArrayFromImage(image)"
      ]
    },
    {
      "cell_type": "code",
      "execution_count": null,
      "id": "8e0a0f8a",
      "metadata": {
        "id": "8e0a0f8a"
      },
      "outputs": [],
      "source": [
        "y = sitk.GetArrayFromImage(labels)"
      ]
    },
    {
      "cell_type": "code",
      "execution_count": null,
      "id": "affea907",
      "metadata": {
        "id": "affea907"
      },
      "outputs": [],
      "source": [
        "y = np.where(y>0,1,0)"
      ]
    },
    {
      "cell_type": "code",
      "execution_count": null,
      "id": "a2467120",
      "metadata": {
        "id": "a2467120"
      },
      "outputs": [],
      "source": [
        "len(np.unique(data))"
      ]
    },
    {
      "cell_type": "code",
      "execution_count": null,
      "id": "e46d317e",
      "metadata": {
        "id": "e46d317e"
      },
      "outputs": [],
      "source": [
        "unique, counts = np.unique(y, return_counts=True)\n",
        "dict(zip(unique, counts))"
      ]
    },
    {
      "cell_type": "code",
      "execution_count": null,
      "id": "b21da055",
      "metadata": {
        "id": "b21da055"
      },
      "outputs": [],
      "source": [
        "data.shape"
      ]
    },
    {
      "cell_type": "code",
      "execution_count": null,
      "id": "0ba7606b",
      "metadata": {
        "id": "0ba7606b"
      },
      "outputs": [],
      "source": [
        "%gui qt"
      ]
    },
    {
      "cell_type": "code",
      "execution_count": null,
      "id": "5d6e6d35",
      "metadata": {
        "id": "5d6e6d35"
      },
      "outputs": [],
      "source": [
        "image_slice = image[:,:,6]\n",
        "print('Slice size', image_slice.GetSize())\n",
        "\n",
        "plt.imshow(sitk.GetArrayFromImage(image_slice), cmap='gray')"
      ]
    },
    {
      "cell_type": "code",
      "execution_count": null,
      "id": "424aaa7d",
      "metadata": {
        "id": "424aaa7d"
      },
      "outputs": [],
      "source": [
        "dimension = image.GetDimension()\n",
        "\n",
        "# Physical image size corresponds to the largest physical size in the training set, or any other arbitrary size.\n",
        "reference_physical_size = np.zeros(dimension)\n",
        "reference_physical_size[:] = [(sz-1)*spc if sz*spc>mx  else mx for sz,spc,mx in zip(image.GetSize(), \n",
        "                                                                                    image.GetSpacing(), \n",
        "                                                                                    reference_physical_size)]\n"
      ]
    },
    {
      "cell_type": "code",
      "execution_count": null,
      "id": "295b09a3",
      "metadata": {
        "id": "295b09a3"
      },
      "outputs": [],
      "source": [
        "# Create the reference image with a zero origin, identity direction cosine matrix and dimension     \n",
        "reference_origin = np.zeros(dimension)\n",
        "reference_direction = np.identity(dimension).flatten()"
      ]
    },
    {
      "cell_type": "code",
      "execution_count": null,
      "id": "7f3a1680",
      "metadata": {
        "id": "7f3a1680"
      },
      "outputs": [],
      "source": [
        "# Select arbitrary number of pixels per dimension, smallest size that yields desired results \n",
        "# or the required size of a pretrained network (e.g. VGG-16 224x224), transfer learning. This will \n",
        "# often result in non-isotropic pixel spacing.\n",
        "reference_size = [128]*dimension \n",
        "reference_spacing = [ phys_sz/(sz-1) for sz,phys_sz in zip(reference_size, reference_physical_size) ]"
      ]
    },
    {
      "cell_type": "code",
      "execution_count": null,
      "id": "b1640103",
      "metadata": {
        "id": "b1640103"
      },
      "outputs": [],
      "source": [
        "reference_image = sitk.Image(reference_size, image.GetPixelIDValue())\n",
        "reference_image.SetOrigin(reference_origin)\n",
        "reference_image.SetSpacing(reference_spacing)\n",
        "reference_image.SetDirection(reference_direction)"
      ]
    },
    {
      "cell_type": "code",
      "execution_count": null,
      "id": "0c42f3d4",
      "metadata": {
        "id": "0c42f3d4"
      },
      "outputs": [],
      "source": [
        "# Always use the TransformContinuousIndexToPhysicalPoint to compute an indexed point's physical coordinates as \n",
        "# this takes into account size, spacing and direction cosines. For the vast majority of images the direction \n",
        "# cosines are the identity matrix, but when this isn't the case simply multiplying the central index by the \n",
        "# spacing will not yield the correct coordinates resulting in a long debugging session. \n",
        "reference_center = np.array(reference_image.TransformContinuousIndexToPhysicalPoint(np.array(reference_image.GetSize())/2.0))"
      ]
    },
    {
      "cell_type": "code",
      "execution_count": null,
      "id": "589aa6ce",
      "metadata": {
        "id": "589aa6ce"
      },
      "outputs": [],
      "source": [
        "def augment_images_spatial(original_image, reference_image, T0, T_aug, transformation_parameters,\n",
        "                    output_prefix, output_suffix,\n",
        "                    interpolator = sitk.sitkLinear, default_intensity_value = 0.0):\n",
        "    '''\n",
        "    Generate the resampled images based on the given transformations.\n",
        "    Args:\n",
        "        original_image (SimpleITK image): The image which we will resample and transform.\n",
        "        reference_image (SimpleITK image): The image onto which we will resample.\n",
        "        T0 (SimpleITK transform): Transformation which maps points from the reference image coordinate system \n",
        "            to the original_image coordinate system.\n",
        "        T_aug (SimpleITK transform): Map points from the reference_image coordinate system back onto itself using the\n",
        "               given transformation_parameters. The reason we use this transformation as a parameter\n",
        "               is to allow the user to set its center of rotation to something other than zero.\n",
        "        transformation_parameters (List of lists): parameter values which we use T_aug.SetParameters().\n",
        "        output_prefix (string): output file name prefix (file name: output_prefix_p1_p2_..pn_.output_suffix).\n",
        "        output_suffix (string): output file name suffix (file name: output_prefix_p1_p2_..pn_.output_suffix).\n",
        "        interpolator: One of the SimpleITK interpolators.\n",
        "        default_intensity_value: The value to return if a point is mapped outside the original_image domain.\n",
        "    '''\n",
        "    all_images = [] # Used only for display purposes in this notebook.\n",
        "    for current_parameters in transformation_parameters:\n",
        "        T_aug.SetParameters(current_parameters)        \n",
        "        # Augmentation is done in the reference image space, so we first map the points from the reference image space\n",
        "        # back onto itself T_aug (e.g. rotate the reference image) and then we map to the original image space T0.\n",
        "        T_all = sitk.Transform(T0)\n",
        "        T_all.AddTransform(T_aug)\n",
        "        aug_image = sitk.Resample(original_image, reference_image, T_all,\n",
        "                                  interpolator, default_intensity_value)\n",
        "        sitk.WriteImage(aug_image, output_prefix + '_' + \n",
        "                        '_'.join(str(param) for param in current_parameters) +'_.' + output_suffix)\n",
        "         \n",
        "        all_images.append(aug_image) # Used only for display purposes in this notebook.\n",
        "    return all_images # Used only for display purposes in this notebook."
      ]
    },
    {
      "cell_type": "code",
      "execution_count": null,
      "id": "5a1e44d6",
      "metadata": {
        "id": "5a1e44d6"
      },
      "outputs": [],
      "source": [
        "all_images = []\n",
        "# Transform which maps from the reference_image to the current img with the translation mapping the image\n",
        "# origins to each other.\n",
        "transform = sitk.AffineTransform(dimension)\n",
        "transform.SetMatrix(image.GetDirection())\n",
        "transform.SetTranslation(np.array(image.GetOrigin()) - reference_origin)\n",
        "# Modify the transformation to align the centers of the original and reference image instead of their origins.\n",
        "centering_transform = sitk.TranslationTransform(dimension)\n",
        "img_center = np.array(image.TransformContinuousIndexToPhysicalPoint(np.array(image.GetSize())/2.0))\n",
        "centering_transform.SetOffset(np.array(transform.GetInverse().TransformPoint(img_center) - reference_center))\n",
        "centered_transform = sitk.Transform(transform)\n",
        "centered_transform = sitk.CompositeTransform([centering_transform, centered_transform])"
      ]
    },
    {
      "cell_type": "code",
      "execution_count": null,
      "id": "e7a6ad2d",
      "metadata": {
        "id": "e7a6ad2d"
      },
      "outputs": [],
      "source": [
        "# Set the augmenting transform's center so that rotation is around the image center.\n",
        "aug_transform = sitk.Similarity3DTransform()\n",
        "aug_transform.SetCenter(reference_center)"
      ]
    },
    {
      "cell_type": "code",
      "execution_count": null,
      "id": "e4221e9c",
      "metadata": {
        "id": "e4221e9c"
      },
      "outputs": [],
      "source": [
        "from utilities import parameter_space_regular_grid_sampling, similarity3D_parameter_space_regular_sampling, eul2quat"
      ]
    },
    {
      "cell_type": "code",
      "execution_count": null,
      "id": "c9d5d064",
      "metadata": {
        "id": "c9d5d064"
      },
      "outputs": [],
      "source": [
        "transformation_parameters_list = similarity3D_parameter_space_regular_sampling(np.linspace(-np.pi/18.0,np.pi/18.0,3),\n",
        "                                                                                   np.linspace(-np.pi/18.0,np.pi/18.0,3),\n",
        "                                                                                   np.linspace(-np.pi/18.0,np.pi/18.0,3),\n",
        "                                                                                   np.linspace(-10,10,3),\n",
        "                                                                                   np.linspace(-10,10,3),\n",
        "                                                                                   np.linspace(-10,10,3),\n",
        "                                                                                   np.linspace(0.9,1.1,3))"
      ]
    },
    {
      "cell_type": "code",
      "execution_count": null,
      "id": "9af59057",
      "metadata": {
        "id": "9af59057"
      },
      "outputs": [],
      "source": [
        "transformation_parameters_list[0]"
      ]
    },
    {
      "cell_type": "code",
      "execution_count": null,
      "id": "1827aba0",
      "metadata": {
        "id": "1827aba0"
      },
      "outputs": [],
      "source": [
        "current_parameters = [0,0,np.pi/2,0,0,0,1]"
      ]
    },
    {
      "cell_type": "code",
      "execution_count": null,
      "id": "d3266704",
      "metadata": {
        "id": "d3266704"
      },
      "outputs": [],
      "source": [
        "aug_transform.SetParameters(current_parameters)        \n",
        "# Augmentation is done in the reference image space, so we first map the points from the reference image space\n",
        "# back onto itself T_aug (e.g. rotate the reference image) and then we map to the original image space T0.\n",
        "T_all = []\n",
        "T_all.append(sitk.Transform(centered_transform))\n",
        "T_all.append(aug_transform)\n",
        "T_all = sitk.CompositeTransform(T_all)"
      ]
    },
    {
      "cell_type": "code",
      "execution_count": null,
      "id": "d832517b",
      "metadata": {
        "id": "d832517b"
      },
      "outputs": [],
      "source": [
        "interpolator = sitk.sitkLinear\n",
        "default_intensity_value = 0.0 "
      ]
    },
    {
      "cell_type": "code",
      "execution_count": null,
      "id": "e29b4cb4",
      "metadata": {
        "id": "e29b4cb4"
      },
      "outputs": [],
      "source": [
        "aug_image = sitk.Resample(image, reference_image, T_all,\n",
        "                          interpolator, default_intensity_value)"
      ]
    },
    {
      "cell_type": "code",
      "execution_count": null,
      "id": "d0c0efe6",
      "metadata": {
        "id": "d0c0efe6"
      },
      "outputs": [],
      "source": [
        "sitk.WriteImage(aug_image, folder + '\\\\test.nii')"
      ]
    },
    {
      "cell_type": "code",
      "execution_count": null,
      "id": "c06baa17",
      "metadata": {
        "id": "c06baa17"
      },
      "outputs": [],
      "source": [
        ""
      ]
    },
    {
      "cell_type": "code",
      "execution_count": null,
      "id": "4fef027e",
      "metadata": {
        "id": "4fef027e"
      },
      "outputs": [],
      "source": [
        ""
      ]
    },
    {
      "cell_type": "code",
      "execution_count": null,
      "id": "73ebab54",
      "metadata": {
        "id": "73ebab54"
      },
      "outputs": [],
      "source": [
        ""
      ]
    },
    {
      "cell_type": "code",
      "execution_count": null,
      "id": "caeb55e7",
      "metadata": {
        "id": "caeb55e7"
      },
      "outputs": [],
      "source": [
        ""
      ]
    },
    {
      "cell_type": "code",
      "execution_count": null,
      "id": "34a81936",
      "metadata": {
        "id": "34a81936"
      },
      "outputs": [],
      "source": [
        "def gen_chunk(in_img, in_mask, slice_count = 10, batch_size = 16):\n",
        "    while True:\n",
        "        img_batch = []\n",
        "        mask_batch = []\n",
        "        for _ in range(batch_size):\n",
        "            s_idx = np.random.choice(range(in_img.shape[0]-slice_count))\n",
        "            img_batch += [in_img[s_idx:(s_idx+slice_count)]]\n",
        "            mask_batch += [in_mask[s_idx:(s_idx+slice_count)]]\n",
        "        yield np.stack(img_batch, 0), np.stack(mask_batch, 0)       "
      ]
    },
    {
      "cell_type": "code",
      "execution_count": null,
      "id": "51127d12",
      "metadata": {
        "id": "51127d12"
      },
      "outputs": [],
      "source": [
        "# training we use larger batch sizes with fewer slices\n",
        "train_gen = gen_chunk(x, y)\n",
        "x_out, y_out = next(train_gen)"
      ]
    },
    {
      "cell_type": "markdown",
      "id": "8df8e4ab",
      "metadata": {
        "id": "8df8e4ab"
      },
      "source": [
        "# Model"
      ]
    },
    {
      "cell_type": "code",
      "execution_count": null,
      "id": "7b2b7007",
      "metadata": {
        "id": "7b2b7007"
      },
      "outputs": [],
      "source": [
        "from keras.layers import ConvLSTM2D, Bidirectional, BatchNormalization, Conv3D, Cropping3D, ZeroPadding3D, Activation, Input\n",
        "from keras.layers import MaxPooling3D, UpSampling3D, Conv3DTranspose, concatenate\n",
        "from keras.models import Model"
      ]
    },
    {
      "cell_type": "code",
      "execution_count": null,
      "id": "980fcf58",
      "metadata": {
        "id": "980fcf58"
      },
      "outputs": [],
      "source": [
        "in_layer = Input((None, None, None, 1))\n",
        "bn = BatchNormalization()(in_layer)\n",
        "cn1 = Conv3D(8, \n",
        "             kernel_size = (1, 5, 5), \n",
        "             padding = 'same',\n",
        "             activation = 'relu')(bn)\n",
        "cn2 = Conv3D(8, \n",
        "             kernel_size = (3, 3, 3),\n",
        "             padding = 'same',\n",
        "             activation = 'linear')(cn1)\n",
        "bn2 = Activation('relu')(BatchNormalization()(cn2))\n",
        "\n",
        "dn1 = MaxPooling3D((2, 2, 2))(bn2)\n",
        "cn3 = Conv3D(16, \n",
        "             kernel_size = (3, 3, 3),\n",
        "             padding = 'same',\n",
        "             activation = 'linear')(dn1)\n",
        "bn3 = Activation('relu')(BatchNormalization()(cn3))\n",
        "\n",
        "dn2 = MaxPooling3D((1, 2, 2))(bn3)\n",
        "cn4 = Conv3D(32, \n",
        "             kernel_size = (3, 3, 3),\n",
        "             padding = 'same',\n",
        "             activation = 'linear')(dn2)\n",
        "bn4 = Activation('relu')(BatchNormalization()(cn4))\n",
        "\n",
        "up1 = Conv3DTranspose(16, \n",
        "                      kernel_size = (3, 3, 3),\n",
        "                      strides = (1, 2, 2),\n",
        "                     padding = 'same')(bn4)\n",
        "\n",
        "cat1 = concatenate([up1, bn3])\n",
        "\n",
        "up2 = Conv3DTranspose(8, \n",
        "                      kernel_size = (3, 3, 3),\n",
        "                      strides = (2, 2, 2),\n",
        "                     padding = 'same')(cat1)\n",
        "\n",
        "pre_out = concatenate([up2, bn2])\n",
        "\n",
        "pre_out = Conv3D(1, \n",
        "             kernel_size = (1, 1, 1), \n",
        "             padding = 'same',\n",
        "             activation = 'sigmoid')(pre_out)\n",
        "\n",
        "pre_out = Cropping3D((1, 2, 2))(pre_out) # avoid skewing boundaries\n",
        "out = ZeroPadding3D((1, 2, 2))(pre_out)\n",
        "sim_model = Model(inputs = [in_layer], outputs = [out])\n",
        "sim_model.summary()"
      ]
    },
    {
      "cell_type": "code",
      "execution_count": null,
      "id": "c32bed28",
      "metadata": {
        "id": "c32bed28"
      },
      "outputs": [],
      "source": [
        "sim_model.predict(x_out).shape"
      ]
    },
    {
      "cell_type": "code",
      "execution_count": null,
      "id": "53e462f3",
      "metadata": {
        "id": "53e462f3"
      },
      "outputs": [],
      "source": [
        "sim_model.compile(optimizer='adam', loss='binary_crossentropy', metrics = ['binary_accuracy', 'mse'])\n",
        "from keras.callbacks import ModelCheckpoint, LearningRateScheduler, EarlyStopping, ReduceLROnPlateau\n",
        "weight_path=\"{}_weights.best.hdf5\".format('convlstm_model')\n",
        "\n",
        "checkpoint = ModelCheckpoint(weight_path, monitor='val_loss', verbose=1, \n",
        "                             save_best_only=True, mode='min', save_weights_only = True)\n",
        "\n",
        "reduceLROnPlat = ReduceLROnPlateau(monitor='val_loss', factor=0.8, patience=5, verbose=1, mode='auto', min_delta=0.0001, cooldown=5, min_lr=0.0001)\n",
        "early = EarlyStopping(monitor=\"val_loss\", \n",
        "                      mode=\"min\", \n",
        "                      patience=10) # probably needs to be more patient, but kaggle time is limited\n",
        "callbacks_list = [checkpoint, early, reduceLROnPlat]"
      ]
    },
    {
      "cell_type": "code",
      "execution_count": null,
      "id": "b0c92598",
      "metadata": {
        "id": "b0c92598"
      },
      "outputs": [],
      "source": [
        "sim_model.fit(train_gen, \n",
        "              batx\n",
        "              epochs=1,\n",
        "              steps_per_epoch = 100, \n",
        "              callbacks = callbacks_list)"
      ]
    },
    {
      "cell_type": "code",
      "execution_count": null,
      "id": "7b8cefde",
      "metadata": {
        "id": "7b8cefde"
      },
      "outputs": [],
      "source": [
        ""
      ]
    }
  ],
  "metadata": {
    "kernelspec": {
      "display_name": "Python 3 (ipykernel)",
      "language": "python",
      "name": "python3"
    },
    "language_info": {
      "codemirror_mode": {
        "name": "ipython",
        "version": 3
      },
      "file_extension": ".py",
      "mimetype": "text/x-python",
      "name": "python",
      "nbconvert_exporter": "python",
      "pygments_lexer": "ipython3",
      "version": "3.8.10"
    },
    "colab": {
      "name": "Thesis.ipynb",
      "provenance": [],
      "include_colab_link": true
    }
  },
  "nbformat": 4,
  "nbformat_minor": 5
}