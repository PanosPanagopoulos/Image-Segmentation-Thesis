{
  "cells": [
    {
      "cell_type": "markdown",
      "metadata": {
        "id": "view-in-github",
        "colab_type": "text"
      },
      "source": [
        "<a href=\"https://colab.research.google.com/github/PanosPanagopoulos/Image-Segmentation-Thesis/blob/main/Thesis.ipynb\" target=\"_parent\"><img src=\"https://colab.research.google.com/assets/colab-badge.svg\" alt=\"Open In Colab\"/></a>"
      ]
    },
    {
      "cell_type": "code",
      "execution_count": 1,
      "id": "1ba2274a",
      "metadata": {
        "id": "1ba2274a",
        "colab": {
          "base_uri": "https://localhost:8080/"
        },
        "outputId": "4977d351-af0d-4ac3-be6f-6611ae75d11e"
      },
      "outputs": [
        {
          "output_type": "stream",
          "name": "stdout",
          "text": [
            "Drive already mounted at /content/drive; to attempt to forcibly remount, call drive.mount(\"/content/drive\", force_remount=True).\n"
          ]
        }
      ],
      "source": [
        "from google.colab import drive\n",
        "drive.mount('/content/drive')"
      ]
    },
    {
      "cell_type": "code",
      "source": [
        "folder = \"/content/drive/My Drive/NUMPY\""
      ],
      "metadata": {
        "id": "NLwTAm90XeN1"
      },
      "id": "NLwTAm90XeN1",
      "execution_count": 2,
      "outputs": []
    },
    {
      "cell_type": "code",
      "source": [
        "!ls \"/content/drive/My Drive/NUMPY/Image\""
      ],
      "metadata": {
        "colab": {
          "base_uri": "https://localhost:8080/"
        },
        "id": "3MgBDc6xWngI",
        "outputId": "a70b62c3-4a3a-45a0-fd05-42dff366546c"
      },
      "id": "3MgBDc6xWngI",
      "execution_count": 3,
      "outputs": [
        {
          "output_type": "stream",
          "name": "stdout",
          "text": [
            "Patient_01_AJ_image_array.npy\n"
          ]
        }
      ]
    },
    {
      "cell_type": "code",
      "execution_count": 4,
      "id": "cbb16041",
      "metadata": {
        "id": "cbb16041"
      },
      "outputs": [],
      "source": [
        "import numpy as np\n",
        "import os"
      ]
    },
    {
      "cell_type": "code",
      "source": [
        "%cd /content/drive/My Drive/"
      ],
      "metadata": {
        "colab": {
          "base_uri": "https://localhost:8080/"
        },
        "id": "FZsgeTGVXdTx",
        "outputId": "aa6158f8-cbcf-49c4-9e38-4605d8759684"
      },
      "id": "FZsgeTGVXdTx",
      "execution_count": 5,
      "outputs": [
        {
          "output_type": "stream",
          "name": "stdout",
          "text": [
            "/content/drive/My Drive\n"
          ]
        }
      ]
    },
    {
      "cell_type": "code",
      "source": [
        "x = np.load('NUMPY/Image/Patient_01_AJ_image_array.npy')"
      ],
      "metadata": {
        "id": "B9eZx12VXVTY"
      },
      "id": "B9eZx12VXVTY",
      "execution_count": 6,
      "outputs": []
    },
    {
      "cell_type": "code",
      "execution_count": 7,
      "id": "caeb55e7",
      "metadata": {
        "id": "caeb55e7"
      },
      "outputs": [],
      "source": [
        "y = np.load('NUMPY/Labels/Patient_01_AJ_segm_fixed.npy')"
      ]
    },
    {
      "cell_type": "code",
      "execution_count": 8,
      "id": "34a81936",
      "metadata": {
        "id": "34a81936"
      },
      "outputs": [],
      "source": [
        "def gen_chunk(in_img, in_mask, slice_count = 10, batch_size = 16):\n",
        "    while True:\n",
        "        img_batch = []\n",
        "        mask_batch = []\n",
        "        for _ in range(batch_size):\n",
        "            s_idx = np.random.choice(range(in_img.shape[0]-slice_count))\n",
        "            img_batch += [in_img[s_idx:(s_idx+slice_count)]]\n",
        "            mask_batch += [in_mask[s_idx:(s_idx+slice_count)]]\n",
        "        yield np.stack(img_batch, 0), np.stack(mask_batch, 0)       "
      ]
    },
    {
      "cell_type": "code",
      "execution_count": 9,
      "id": "51127d12",
      "metadata": {
        "id": "51127d12"
      },
      "outputs": [],
      "source": [
        "# training we use larger batch sizes with fewer slices\n",
        "train_gen = gen_chunk(x, y)\n",
        "x_out, y_out = next(train_gen)"
      ]
    },
    {
      "cell_type": "markdown",
      "id": "8df8e4ab",
      "metadata": {
        "id": "8df8e4ab"
      },
      "source": [
        "# Model"
      ]
    },
    {
      "cell_type": "code",
      "execution_count": 11,
      "id": "7b2b7007",
      "metadata": {
        "id": "7b2b7007"
      },
      "outputs": [],
      "source": [
        "from keras.layers import ConvLSTM2D, Bidirectional, BatchNormalization, Conv3D, Cropping3D, ZeroPadding3D, Activation, Input\n",
        "from keras.layers import MaxPooling3D, UpSampling3D, Conv3DTranspose, concatenate\n",
        "from keras.models import Model"
      ]
    },
    {
      "cell_type": "code",
      "source": [
        "import tensorflow as tf\n",
        "from tensorflow.keras import mixed_precision\n",
        "policy = mixed_precision.Policy('mixed_float16')\n",
        "mixed_precision.set_global_policy(policy)"
      ],
      "metadata": {
        "colab": {
          "base_uri": "https://localhost:8080/"
        },
        "id": "hXuBB9Vz0ln3",
        "outputId": "667331d4-fc2d-43f4-8c7c-6ecedc817f3e"
      },
      "id": "hXuBB9Vz0ln3",
      "execution_count": 19,
      "outputs": [
        {
          "output_type": "stream",
          "name": "stdout",
          "text": [
            "WARNING:tensorflow:Mixed precision compatibility check (mixed_float16): WARNING\n",
            "Your GPU may run slowly with dtype policy mixed_float16 because it does not have compute capability of at least 7.0. Your GPU:\n",
            "  Tesla K80, compute capability 3.7\n",
            "See https://developer.nvidia.com/cuda-gpus for a list of GPUs and their compute capabilities.\n",
            "If you will use compatible GPU(s) not attached to this host, e.g. by running a multi-worker model, you can ignore this warning. This message will only be logged once\n"
          ]
        }
      ]
    },
    {
      "cell_type": "code",
      "execution_count": 22,
      "id": "980fcf58",
      "metadata": {
        "id": "980fcf58",
        "colab": {
          "base_uri": "https://localhost:8080/"
        },
        "outputId": "882feeb2-259e-48b5-f3fc-fef8734b5e69"
      },
      "outputs": [
        {
          "output_type": "stream",
          "name": "stdout",
          "text": [
            "Model: \"model_2\"\n",
            "__________________________________________________________________________________________________\n",
            " Layer (type)                   Output Shape         Param #     Connected to                     \n",
            "==================================================================================================\n",
            " input_3 (InputLayer)           [(None, None, None,  0           []                               \n",
            "                                 None, 1)]                                                        \n",
            "                                                                                                  \n",
            " batch_normalization_8 (BatchNo  (None, None, None,   4          ['input_3[0][0]']                \n",
            " rmalization)                   None, 1)                                                          \n",
            "                                                                                                  \n",
            " conv3d_10 (Conv3D)             (None, None, None,   208         ['batch_normalization_8[0][0]']  \n",
            "                                None, 8)                                                          \n",
            "                                                                                                  \n",
            " conv3d_11 (Conv3D)             (None, None, None,   1736        ['conv3d_10[0][0]']              \n",
            "                                None, 8)                                                          \n",
            "                                                                                                  \n",
            " batch_normalization_9 (BatchNo  (None, None, None,   32         ['conv3d_11[0][0]']              \n",
            " rmalization)                   None, 8)                                                          \n",
            "                                                                                                  \n",
            " activation_6 (Activation)      (None, None, None,   0           ['batch_normalization_9[0][0]']  \n",
            "                                None, 8)                                                          \n",
            "                                                                                                  \n",
            " max_pooling3d_4 (MaxPooling3D)  (None, None, None,   0          ['activation_6[0][0]']           \n",
            "                                None, 8)                                                          \n",
            "                                                                                                  \n",
            " conv3d_12 (Conv3D)             (None, None, None,   3472        ['max_pooling3d_4[0][0]']        \n",
            "                                None, 16)                                                         \n",
            "                                                                                                  \n",
            " batch_normalization_10 (BatchN  (None, None, None,   64         ['conv3d_12[0][0]']              \n",
            " ormalization)                  None, 16)                                                         \n",
            "                                                                                                  \n",
            " activation_7 (Activation)      (None, None, None,   0           ['batch_normalization_10[0][0]'] \n",
            "                                None, 16)                                                         \n",
            "                                                                                                  \n",
            " max_pooling3d_5 (MaxPooling3D)  (None, None, None,   0          ['activation_7[0][0]']           \n",
            "                                None, 16)                                                         \n",
            "                                                                                                  \n",
            " conv3d_13 (Conv3D)             (None, None, None,   13856       ['max_pooling3d_5[0][0]']        \n",
            "                                None, 32)                                                         \n",
            "                                                                                                  \n",
            " batch_normalization_11 (BatchN  (None, None, None,   128        ['conv3d_13[0][0]']              \n",
            " ormalization)                  None, 32)                                                         \n",
            "                                                                                                  \n",
            " activation_8 (Activation)      (None, None, None,   0           ['batch_normalization_11[0][0]'] \n",
            "                                None, 32)                                                         \n",
            "                                                                                                  \n",
            " conv3d_transpose_4 (Conv3DTran  (None, None, None,   13840      ['activation_8[0][0]']           \n",
            " spose)                         None, 16)                                                         \n",
            "                                                                                                  \n",
            " concatenate_4 (Concatenate)    (None, None, None,   0           ['conv3d_transpose_4[0][0]',     \n",
            "                                None, 32)                         'activation_7[0][0]']           \n",
            "                                                                                                  \n",
            " conv3d_transpose_5 (Conv3DTran  (None, None, None,   6920       ['concatenate_4[0][0]']          \n",
            " spose)                         None, 8)                                                          \n",
            "                                                                                                  \n",
            " concatenate_5 (Concatenate)    (None, None, None,   0           ['conv3d_transpose_5[0][0]',     \n",
            "                                None, 16)                         'activation_6[0][0]']           \n",
            "                                                                                                  \n",
            " conv3d_14 (Conv3D)             (None, None, None,   17          ['concatenate_5[0][0]']          \n",
            "                                None, 1)                                                          \n",
            "                                                                                                  \n",
            " cropping3d_2 (Cropping3D)      (None, None, None,   0           ['conv3d_14[0][0]']              \n",
            "                                None, 1)                                                          \n",
            "                                                                                                  \n",
            " zero_padding3d_2 (ZeroPadding3  (None, None, None,   0          ['cropping3d_2[0][0]']           \n",
            " D)                             None, 1)                                                          \n",
            "                                                                                                  \n",
            "==================================================================================================\n",
            "Total params: 40,277\n",
            "Trainable params: 40,163\n",
            "Non-trainable params: 114\n",
            "__________________________________________________________________________________________________\n"
          ]
        }
      ],
      "source": [
        "in_layer = Input((None, None, None, 1))\n",
        "bn = BatchNormalization()(in_layer)\n",
        "cn1 = Conv3D(8, \n",
        "             kernel_size = (1, 5, 5), \n",
        "             padding = 'same',\n",
        "             activation = 'relu')(bn)\n",
        "cn2 = Conv3D(8, \n",
        "             kernel_size = (3, 3, 3),\n",
        "             padding = 'same',\n",
        "             activation = 'linear')(cn1)\n",
        "bn2 = Activation('relu')(BatchNormalization()(cn2))\n",
        "\n",
        "dn1 = MaxPooling3D((2, 2, 2))(bn2)\n",
        "cn3 = Conv3D(16, \n",
        "             kernel_size = (3, 3, 3),\n",
        "             padding = 'same',\n",
        "             activation = 'linear')(dn1)\n",
        "bn3 = Activation('relu')(BatchNormalization()(cn3))\n",
        "\n",
        "dn2 = MaxPooling3D((1, 2, 2))(bn3)\n",
        "cn4 = Conv3D(32, \n",
        "             kernel_size = (3, 3, 3),\n",
        "             padding = 'same',\n",
        "             activation = 'linear')(dn2)\n",
        "bn4 = Activation('relu')(BatchNormalization()(cn4))\n",
        "\n",
        "up1 = Conv3DTranspose(16, \n",
        "                      kernel_size = (3, 3, 3),\n",
        "                      strides = (1, 2, 2),\n",
        "                     padding = 'same')(bn4)\n",
        "\n",
        "cat1 = concatenate([up1, bn3])\n",
        "\n",
        "up2 = Conv3DTranspose(8, \n",
        "                      kernel_size = (3, 3, 3),\n",
        "                      strides = (2, 2, 2),\n",
        "                     padding = 'same')(cat1)\n",
        "\n",
        "pre_out = concatenate([up2, bn2])\n",
        "\n",
        "pre_out = Conv3D(1, \n",
        "             kernel_size = (1, 1, 1), \n",
        "             padding = 'same',\n",
        "             activation = 'sigmoid')(pre_out)\n",
        "\n",
        "pre_out = Cropping3D((1, 2, 2))(pre_out) # avoid skewing boundaries\n",
        "out = ZeroPadding3D((1, 2, 2),dtype = 'float32')(pre_out)\n",
        "sim_model = Model(inputs = [in_layer], outputs = [out])\n",
        "sim_model.summary()"
      ]
    },
    {
      "cell_type": "code",
      "source": [
        "out.dtype.name"
      ],
      "metadata": {
        "colab": {
          "base_uri": "https://localhost:8080/",
          "height": 35
        },
        "id": "z1YW8kC51gv3",
        "outputId": "c76d8257-86cb-4283-96e5-f513015c7f38"
      },
      "id": "z1YW8kC51gv3",
      "execution_count": 23,
      "outputs": [
        {
          "output_type": "execute_result",
          "data": {
            "text/plain": [
              "'float32'"
            ],
            "application/vnd.google.colaboratory.intrinsic+json": {
              "type": "string"
            }
          },
          "metadata": {},
          "execution_count": 23
        }
      ]
    },
    {
      "cell_type": "code",
      "execution_count": 13,
      "id": "c32bed28",
      "metadata": {
        "id": "c32bed28",
        "colab": {
          "base_uri": "https://localhost:8080/"
        },
        "outputId": "9dcdb03e-6953-4840-cc8d-01ed179abadf"
      },
      "outputs": [
        {
          "output_type": "execute_result",
          "data": {
            "text/plain": [
              "(16, 10, 400, 400, 1)"
            ]
          },
          "metadata": {},
          "execution_count": 13
        }
      ],
      "source": [
        "sim_model.predict(x_out).shape"
      ]
    },
    {
      "cell_type": "code",
      "source": [
        "from tensorflow.python.keras.backend import get_session"
      ],
      "metadata": {
        "id": "kC1yy-9ueeZF"
      },
      "id": "kC1yy-9ueeZF",
      "execution_count": 14,
      "outputs": []
    },
    {
      "cell_type": "code",
      "source": [
        "import tensorflow as tf\n",
        "tf.test.gpu_device_name()"
      ],
      "metadata": {
        "colab": {
          "base_uri": "https://localhost:8080/",
          "height": 35
        },
        "id": "PczsFiFHexWp",
        "outputId": "3b5f596b-68cb-497f-c3dd-a52d777f262c"
      },
      "id": "PczsFiFHexWp",
      "execution_count": 17,
      "outputs": [
        {
          "output_type": "execute_result",
          "data": {
            "text/plain": [
              "'/device:GPU:0'"
            ],
            "application/vnd.google.colaboratory.intrinsic+json": {
              "type": "string"
            }
          },
          "metadata": {},
          "execution_count": 17
        }
      ]
    },
    {
      "cell_type": "code",
      "execution_count": 25,
      "id": "53e462f3",
      "metadata": {
        "id": "53e462f3"
      },
      "outputs": [],
      "source": [
        "sim_model.compile(optimizer='adam', loss='binary_crossentropy', metrics = ['binary_accuracy', 'mse'])\n",
        "from keras.callbacks import ModelCheckpoint, LearningRateScheduler, EarlyStopping, ReduceLROnPlateau\n",
        "weight_path=\"{}_weights.best.hdf5\".format('convlstm_model')\n",
        "\n",
        "checkpoint = ModelCheckpoint(weight_path, monitor='val_loss', verbose=1, \n",
        "                             save_best_only=True, mode='min', save_weights_only = True)\n",
        "\n",
        "reduceLROnPlat = ReduceLROnPlateau(monitor='val_loss', factor=0.8, patience=5, verbose=1, mode='auto', min_delta=0.0001, cooldown=5, min_lr=0.0001)\n",
        "early = EarlyStopping(monitor=\"val_loss\", \n",
        "                      mode=\"min\", \n",
        "                      patience=10) # probably needs to be more patient, but kaggle time is limited\n",
        "callbacks_list = [checkpoint, early, reduceLROnPlat]"
      ]
    },
    {
      "cell_type": "code",
      "source": [
        "print(\"Num GPUs Available: \", len(tf.config.list_physical_devices('GPU')))"
      ],
      "metadata": {
        "colab": {
          "base_uri": "https://localhost:8080/"
        },
        "id": "dFSXZNZ9n04g",
        "outputId": "5782109c-5309-4f71-e755-67ce3d094907"
      },
      "id": "dFSXZNZ9n04g",
      "execution_count": 18,
      "outputs": [
        {
          "output_type": "stream",
          "name": "stdout",
          "text": [
            "Num GPUs Available:  1\n"
          ]
        }
      ]
    },
    {
      "cell_type": "code",
      "execution_count": 26,
      "id": "b0c92598",
      "metadata": {
        "id": "b0c92598",
        "colab": {
          "base_uri": "https://localhost:8080/"
        },
        "outputId": "35444247-25fa-4ea6-beb5-3864fc08d39a"
      },
      "outputs": [
        {
          "output_type": "stream",
          "name": "stdout",
          "text": [
            "100/100 [==============================] - ETA: 0s - loss: 0.0896 - binary_accuracy: 0.9980 - mse: 0.0258WARNING:tensorflow:Can save best model only with val_loss available, skipping.\n",
            "WARNING:tensorflow:Early stopping conditioned on metric `val_loss` which is not available. Available metrics are: loss,binary_accuracy,mse\n",
            "WARNING:tensorflow:Learning rate reduction is conditioned on metric `val_loss` which is not available. Available metrics are: loss,binary_accuracy,mse,lr\n",
            "100/100 [==============================] - 449s 4s/step - loss: 0.0896 - binary_accuracy: 0.9980 - mse: 0.0258 - lr: 0.0010\n"
          ]
        }
      ],
      "source": [
        "with tf.device(\"/gpu:0\"):\n",
        "  sim_model.fit(train_gen, \n",
        "                epochs=1,\n",
        "                steps_per_epoch = 100,\n",
        "                callbacks = callbacks_list)"
      ]
    },
    {
      "cell_type": "code",
      "execution_count": null,
      "id": "7b8cefde",
      "metadata": {
        "id": "7b8cefde"
      },
      "outputs": [],
      "source": [
        ""
      ]
    }
  ],
  "metadata": {
    "kernelspec": {
      "display_name": "Python 3 (ipykernel)",
      "language": "python",
      "name": "python3"
    },
    "language_info": {
      "codemirror_mode": {
        "name": "ipython",
        "version": 3
      },
      "file_extension": ".py",
      "mimetype": "text/x-python",
      "name": "python",
      "nbconvert_exporter": "python",
      "pygments_lexer": "ipython3",
      "version": "3.8.10"
    },
    "colab": {
      "name": "Thesis.ipynb",
      "provenance": [],
      "toc_visible": true,
      "include_colab_link": true
    },
    "accelerator": "GPU"
  },
  "nbformat": 4,
  "nbformat_minor": 5
}